version https://git-lfs.github.com/spec/v1
oid sha256:c8362ac8104e0d0ce94fa49d0d70d53caa5cd2248298c3ba97a4698498ec3b88
size 30947777
